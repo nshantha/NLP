{
  "nbformat": 4,
  "nbformat_minor": 0,
  "metadata": {
    "colab": {
      "name": "Sentiment Analysis.ipynb",
      "provenance": [],
      "authorship_tag": "ABX9TyMrelvv/12UdPjFiN7TCxcv",
      "include_colab_link": true
    },
    "kernelspec": {
      "name": "python3",
      "display_name": "Python 3"
    },
    "accelerator": "GPU"
  },
  "cells": [
    {
      "cell_type": "markdown",
      "metadata": {
        "id": "view-in-github",
        "colab_type": "text"
      },
      "source": [
        "<a href=\"https://colab.research.google.com/github/nshantha/NLP/blob/main/Sentiment_Analysis.ipynb\" target=\"_parent\"><img src=\"https://colab.research.google.com/assets/colab-badge.svg\" alt=\"Open In Colab\"/></a>"
      ]
    },
    {
      "cell_type": "code",
      "metadata": {
        "id": "d4Net6XWfisr"
      },
      "source": [
        "import torch\n",
        "from torchtext import data\n",
        "from torchtext import datasets\n",
        "\n",
        "SEED = 1234\n",
        "\n",
        "torch.manual_seed(SEED)\n",
        "torch.backends.cudnn.deterministic = True\n",
        "\n",
        "TEXT = data.Field(tokenize = 'spacy', include_lengths = True)\n",
        "LABEL = data.LabelField(dtype = torch.float)"
      ],
      "execution_count": 1,
      "outputs": []
    },
    {
      "cell_type": "code",
      "metadata": {
        "id": "nTvZs3bkflJA"
      },
      "source": [
        "from torchtext import datasets\n",
        "\n",
        "train_data, test_data = datasets.IMDB.splits(TEXT, LABEL)"
      ],
      "execution_count": 2,
      "outputs": []
    },
    {
      "cell_type": "code",
      "metadata": {
        "id": "q5synaKlfnNx"
      },
      "source": [
        "import random\n",
        "\n",
        "train_data, valid_data = train_data.split(random_state = random.seed(SEED))"
      ],
      "execution_count": 3,
      "outputs": []
    },
    {
      "cell_type": "code",
      "metadata": {
        "id": "1yJbkypuyFQk"
      },
      "source": [
        "for data_item  in range(len(train_data)):\n",
        "  vars(train_data.examples[data_item]).get('text').reverse()"
      ],
      "execution_count": 4,
      "outputs": []
    },
    {
      "cell_type": "code",
      "metadata": {
        "id": "tWmaT6mxfpYe"
      },
      "source": [
        "MAX_VOCAB_SIZE = 25_000\n",
        "\n",
        "TEXT.build_vocab(train_data, \n",
        "                 max_size = MAX_VOCAB_SIZE, \n",
        "                 vectors = \"glove.6B.100d\", \n",
        "                 unk_init = torch.Tensor.normal_)\n",
        "\n",
        "LABEL.build_vocab(train_data)"
      ],
      "execution_count": 5,
      "outputs": []
    },
    {
      "cell_type": "code",
      "metadata": {
        "id": "kYEdUfNQvtjS"
      },
      "source": [
        ""
      ],
      "execution_count": 5,
      "outputs": []
    },
    {
      "cell_type": "code",
      "metadata": {
        "colab": {
          "base_uri": "https://localhost:8080/"
        },
        "id": "8c4okthOvw81",
        "outputId": "ac98ffaf-0af5-46f6-8435-5788a48ac918"
      },
      "source": [
        "vars(train_data.examples[1]). get('text')"
      ],
      "execution_count": 6,
      "outputs": [
        {
          "output_type": "execute_result",
          "data": {
            "text/plain": [
              "['.',\n",
              " 'classic',\n",
              " 'a',\n",
              " 'of',\n",
              " 'shy',\n",
              " 'just',\n",
              " 'all',\n",
              " 'in',\n",
              " '/>All',\n",
              " '/><br',\n",
              " 'win.<br',\n",
              " 'to',\n",
              " 'Rob',\n",
              " 'want',\n",
              " 'really',\n",
              " 'you',\n",
              " 'and',\n",
              " 'good',\n",
              " 'is',\n",
              " 'story',\n",
              " 'The',\n",
              " '.',\n",
              " 'gory',\n",
              " 'too',\n",
              " 'not',\n",
              " 'but',\n",
              " ',',\n",
              " 'realistic',\n",
              " 'very',\n",
              " 'play',\n",
              " 'sword',\n",
              " 'the',\n",
              " 'and',\n",
              " 'exciting',\n",
              " 'is',\n",
              " 'Action',\n",
              " '/>The',\n",
              " '/><br',\n",
              " 'filmed.<br',\n",
              " 'and',\n",
              " 'acted',\n",
              " 'well',\n",
              " 'very',\n",
              " 'is',\n",
              " 'movie',\n",
              " 'whole',\n",
              " 'the',\n",
              " 'and',\n",
              " ',',\n",
              " 'strong',\n",
              " 'is',\n",
              " 'cast',\n",
              " 'the',\n",
              " 'of',\n",
              " 'rest',\n",
              " '/>The',\n",
              " '/><br',\n",
              " 'times.<br',\n",
              " 'many',\n",
              " 'too',\n",
              " '1',\n",
              " '\"',\n",
              " 'honour',\n",
              " '\"',\n",
              " 'word',\n",
              " 'the',\n",
              " 'used',\n",
              " 'writers',\n",
              " 'the',\n",
              " 'think',\n",
              " 'i',\n",
              " 'but',\n",
              " ',',\n",
              " 'too',\n",
              " 'excellent',\n",
              " 'is',\n",
              " ')',\n",
              " 'Neeson',\n",
              " 'Liam',\n",
              " '(',\n",
              " 'Roy',\n",
              " '/>Rob',\n",
              " '/><br',\n",
              " 'evil.<br',\n",
              " 'completely',\n",
              " 'look',\n",
              " 'and',\n",
              " 'off',\n",
              " 'eyes',\n",
              " 'his',\n",
              " 'turn',\n",
              " 'to',\n",
              " 'able',\n",
              " 'be',\n",
              " 'to',\n",
              " 'seems',\n",
              " 'he',\n",
              " 'face',\n",
              " 'his',\n",
              " 'watch',\n",
              " 'you',\n",
              " 'if',\n",
              " 'and',\n",
              " 'cold',\n",
              " 'Brutally',\n",
              " '.',\n",
              " 'story',\n",
              " 'this',\n",
              " 'in',\n",
              " 'character',\n",
              " 'and',\n",
              " 'villain',\n",
              " 'amazing',\n",
              " 'an',\n",
              " 'is',\n",
              " ')',\n",
              " 'Roth',\n",
              " 'Tim',\n",
              " '(',\n",
              " '/>Cunningham',\n",
              " '/><br',\n",
              " 'clansmen.<br',\n",
              " 'his',\n",
              " 'indirectly',\n",
              " 'and',\n",
              " 'family',\n",
              " 'his',\n",
              " 'for',\n",
              " 'causes',\n",
              " 'it',\n",
              " 'problems',\n",
              " 'the',\n",
              " 'and',\n",
              " ',',\n",
              " 'theft',\n",
              " 'its',\n",
              " ',',\n",
              " 'pounds',\n",
              " '1000',\n",
              " 'of',\n",
              " 'borrowing',\n",
              " \"'s\",\n",
              " 'Roy',\n",
              " 'Rob',\n",
              " 'concerns',\n",
              " 'story',\n",
              " 'basic',\n",
              " '/>The',\n",
              " '/><br',\n",
              " 'movie.<br',\n",
              " 'historical',\n",
              " 'slightly',\n",
              " 'and',\n",
              " '/',\n",
              " 'drama',\n",
              " '/',\n",
              " 'action',\n",
              " 'rated',\n",
              " '-',\n",
              " 'under',\n",
              " ',',\n",
              " 'good',\n",
              " 'very',\n",
              " 'a',\n",
              " 'is',\n",
              " 'This']"
            ]
          },
          "metadata": {
            "tags": []
          },
          "execution_count": 6
        }
      ]
    },
    {
      "cell_type": "code",
      "metadata": {
        "id": "wyvqd6Q9fqpK"
      },
      "source": [
        "BATCH_SIZE = 64\n",
        "\n",
        "device = torch.device('cuda' if torch.cuda.is_available() else 'cpu')\n",
        "\n",
        "train_iterator, valid_iterator, test_iterator = data.BucketIterator.splits(\n",
        "    (train_data, valid_data, test_data), \n",
        "    batch_size = BATCH_SIZE,\n",
        "    sort_within_batch = True,\n",
        "    device = device)"
      ],
      "execution_count": 7,
      "outputs": []
    },
    {
      "cell_type": "code",
      "metadata": {
        "id": "OADTw7BGfsPj"
      },
      "source": [
        "import torch.nn as nn\n",
        "\n",
        "class RNN(nn.Module):\n",
        "    def __init__(self, vocab_size, embedding_dim, hidden_dim, output_dim, n_layers, \n",
        "                 bidirectional, dropout, pad_idx):\n",
        "        \n",
        "        super().__init__()\n",
        "        \n",
        "        self.embedding = nn.Embedding(vocab_size, embedding_dim, padding_idx = pad_idx)\n",
        "        \n",
        "        self.rnn = nn.LSTM(embedding_dim, \n",
        "                           hidden_dim, \n",
        "                           num_layers=n_layers, \n",
        "                           bidirectional=bidirectional, \n",
        "                           dropout=dropout)\n",
        "\n",
        "        self.lstm = nn.LSTM(hidden_dim, \n",
        "                           hidden_dim, \n",
        "                           num_layers=n_layers, \n",
        "                           bidirectional=bidirectional, \n",
        "                           dropout=dropout) \n",
        "        \n",
        "        self.fc = nn.Linear(hidden_dim, output_dim)\n",
        "        \n",
        "        self.dropout = nn.Dropout(dropout)\n",
        "        \n",
        "    def forward(self, text, text_lengths):\n",
        "           \n",
        "        embedded = self.dropout(self.embedding(text))        \n",
        "        #pack sequence\n",
        "        packed_embedded = nn.utils.rnn.pack_padded_sequence(embedded, text_lengths)\n",
        "        \n",
        "        packed_output, (hidden, cell) = self.rnn(packed_embedded)\n",
        "        \n",
        "        LSTM_LAYERS = 2\n",
        "        for layer in range(LSTM_LAYERS):\n",
        "          packed_output, (hidden, cell) = self.lstm(packed_output)\n",
        "        \n",
        "        #unpack sequence\n",
        "        output, output_lengths = nn.utils.rnn.pad_packed_sequence(packed_output)\n",
        "        \n",
        "        hidden = self.dropout(hidden[-1,:,:])\n",
        "        \n",
        "            \n",
        "        return self.fc(hidden)"
      ],
      "execution_count": 95,
      "outputs": []
    },
    {
      "cell_type": "code",
      "metadata": {
        "colab": {
          "base_uri": "https://localhost:8080/"
        },
        "id": "toXAmL38gDsp",
        "outputId": "0696984c-8f1a-4287-f060-248a0386d8d1"
      },
      "source": [
        "\n",
        "INPUT_DIM = len(TEXT.vocab)\n",
        "EMBEDDING_DIM = 100\n",
        "HIDDEN_DIM = 256\n",
        "OUTPUT_DIM = 1\n",
        "N_LAYERS = 1\n",
        "BIDIRECTIONAL = False # Trying to reverse manually\n",
        "DROPOUT = 0.2 # Dropout changed from 0.5->0.2\n",
        "PAD_IDX = TEXT.vocab.stoi[TEXT.pad_token]\n",
        "\n",
        "model = RNN(INPUT_DIM, \n",
        "            EMBEDDING_DIM, \n",
        "            HIDDEN_DIM, \n",
        "            OUTPUT_DIM, \n",
        "            N_LAYERS, \n",
        "            BIDIRECTIONAL, \n",
        "            DROPOUT, \n",
        "            PAD_IDX)"
      ],
      "execution_count": 96,
      "outputs": [
        {
          "output_type": "stream",
          "text": [
            "/usr/local/lib/python3.6/dist-packages/torch/nn/modules/rnn.py:61: UserWarning: dropout option adds dropout after all but last recurrent layer, so non-zero dropout expects num_layers greater than 1, but got dropout=0.2 and num_layers=1\n",
            "  \"num_layers={}\".format(dropout, num_layers))\n"
          ],
          "name": "stderr"
        }
      ]
    },
    {
      "cell_type": "code",
      "metadata": {
        "colab": {
          "base_uri": "https://localhost:8080/"
        },
        "id": "tGvsaJsQugj1",
        "outputId": "9431cc50-6677-47f9-f4fc-a7381e0c45e4"
      },
      "source": [
        "def count_parameters(model):\n",
        "    return sum(p.numel() for p in model.parameters() if p.requires_grad)\n",
        "\n",
        "print(f'The model has {count_parameters(model):,} trainable parameters')"
      ],
      "execution_count": 97,
      "outputs": [
        {
          "output_type": "stream",
          "text": [
            "The model has 3,393,385 trainable parameters\n"
          ],
          "name": "stdout"
        }
      ]
    },
    {
      "cell_type": "code",
      "metadata": {
        "colab": {
          "base_uri": "https://localhost:8080/"
        },
        "id": "WUDD6UvluiW9",
        "outputId": "68f36dcb-3799-4218-bfdc-8de541d3dfae"
      },
      "source": [
        "pretrained_embeddings = TEXT.vocab.vectors\n",
        "\n",
        "print(pretrained_embeddings.shape)"
      ],
      "execution_count": 98,
      "outputs": [
        {
          "output_type": "stream",
          "text": [
            "torch.Size([25002, 100])\n"
          ],
          "name": "stdout"
        }
      ]
    },
    {
      "cell_type": "code",
      "metadata": {
        "colab": {
          "base_uri": "https://localhost:8080/"
        },
        "id": "TD-2naknuygE",
        "outputId": "2f3c8e96-fd40-4c0e-a456-fa5fed4e38f5"
      },
      "source": [
        "\n",
        "model.embedding.weight.data.copy_(pretrained_embeddings)"
      ],
      "execution_count": 99,
      "outputs": [
        {
          "output_type": "execute_result",
          "data": {
            "text/plain": [
              "tensor([[-0.1117, -0.4966,  0.1631,  ...,  1.2647, -0.2753, -0.1325],\n",
              "        [-0.8555, -0.7208,  1.3755,  ...,  0.0825, -1.1314,  0.3997],\n",
              "        [-0.0382, -0.2449,  0.7281,  ..., -0.1459,  0.8278,  0.2706],\n",
              "        ...,\n",
              "        [-0.1830, -1.1160,  2.3601,  ..., -1.6465,  0.2431,  0.5666],\n",
              "        [-0.2326, -1.2659, -1.1949,  ...,  0.9952, -0.0324, -0.1769],\n",
              "        [-0.6184,  0.0806,  1.7381,  ...,  0.0445, -0.5604, -0.3227]])"
            ]
          },
          "metadata": {
            "tags": []
          },
          "execution_count": 99
        }
      ]
    },
    {
      "cell_type": "code",
      "metadata": {
        "colab": {
          "base_uri": "https://localhost:8080/"
        },
        "id": "qKuWHHXlu3SZ",
        "outputId": "dc9f28cd-6a27-4448-e785-b218e0cab873"
      },
      "source": [
        "UNK_IDX = TEXT.vocab.stoi[TEXT.unk_token]\n",
        "\n",
        "model.embedding.weight.data[UNK_IDX] = torch.zeros(EMBEDDING_DIM)\n",
        "model.embedding.weight.data[PAD_IDX] = torch.zeros(EMBEDDING_DIM)\n",
        "\n",
        "print(model.embedding.weight.data)"
      ],
      "execution_count": 100,
      "outputs": [
        {
          "output_type": "stream",
          "text": [
            "tensor([[ 0.0000,  0.0000,  0.0000,  ...,  0.0000,  0.0000,  0.0000],\n",
            "        [ 0.0000,  0.0000,  0.0000,  ...,  0.0000,  0.0000,  0.0000],\n",
            "        [-0.0382, -0.2449,  0.7281,  ..., -0.1459,  0.8278,  0.2706],\n",
            "        ...,\n",
            "        [-0.1830, -1.1160,  2.3601,  ..., -1.6465,  0.2431,  0.5666],\n",
            "        [-0.2326, -1.2659, -1.1949,  ...,  0.9952, -0.0324, -0.1769],\n",
            "        [-0.6184,  0.0806,  1.7381,  ...,  0.0445, -0.5604, -0.3227]])\n"
          ],
          "name": "stdout"
        }
      ]
    },
    {
      "cell_type": "code",
      "metadata": {
        "id": "bJOy2bc9u4_M"
      },
      "source": [
        "import torch.optim as optim\n",
        "\n",
        "optimizer = optim.Adam(model.parameters())"
      ],
      "execution_count": 101,
      "outputs": []
    },
    {
      "cell_type": "code",
      "metadata": {
        "id": "gGnqMHveu6pj"
      },
      "source": [
        "criterion = nn.BCEWithLogitsLoss()\n",
        "\n",
        "model = model.to(device)\n",
        "criterion = criterion.to(device)"
      ],
      "execution_count": 102,
      "outputs": []
    },
    {
      "cell_type": "code",
      "metadata": {
        "id": "80U_4SFcu8aR"
      },
      "source": [
        "def binary_accuracy(preds, y):\n",
        "    \"\"\"\n",
        "    Returns accuracy per batch, i.e. if you get 8/10 right, this returns 0.8, NOT 8\n",
        "    \"\"\"\n",
        "\n",
        "    #round predictions to the closest integer\n",
        "    rounded_preds = torch.round(torch.sigmoid(preds))\n",
        "    correct = (rounded_preds == y).float() #convert into float for division \n",
        "    acc = correct.sum() / len(correct)\n",
        "    return acc"
      ],
      "execution_count": 103,
      "outputs": []
    },
    {
      "cell_type": "code",
      "metadata": {
        "id": "_vMJXYw4u-GU"
      },
      "source": [
        "def train(model, iterator, optimizer, criterion):\n",
        "    \n",
        "    epoch_loss = 0\n",
        "    epoch_acc = 0\n",
        "    \n",
        "    model.train()\n",
        "    \n",
        "    for batch in iterator:\n",
        "        \n",
        "        optimizer.zero_grad()\n",
        "        \n",
        "        text, text_lengths = batch.text\n",
        "\n",
        "        #text = torch.flip(text, [0]) # reversing the text\n",
        "        # print('Training :  Test type {} {}'.format(type(text_lengths),text_lengths.shape))    \n",
        "        predictions = model(text, text_lengths.cpu()).squeeze(1)\n",
        "        \n",
        "        loss = criterion(predictions, batch.label)\n",
        "        \n",
        "        acc = binary_accuracy(predictions, batch.label)\n",
        "        \n",
        "        loss.backward()\n",
        "        \n",
        "        optimizer.step()\n",
        "        \n",
        "        epoch_loss += loss.item()\n",
        "        epoch_acc += acc.item()\n",
        "    #print('Training :  Test type {} {}'.format(type(text),text.shape))    \n",
        "    return epoch_loss / len(iterator), epoch_acc / len(iterator)"
      ],
      "execution_count": 104,
      "outputs": []
    },
    {
      "cell_type": "code",
      "metadata": {
        "id": "WZqdI3wmu_-B"
      },
      "source": [
        "def evaluate(model, iterator, criterion):\n",
        "    \n",
        "    epoch_loss = 0\n",
        "    epoch_acc = 0\n",
        "    \n",
        "    model.eval()\n",
        "    \n",
        "    with torch.no_grad():\n",
        "    \n",
        "        for batch in iterator:\n",
        "\n",
        "            text, text_lengths = batch.text\n",
        "            \n",
        "            predictions = model(text, text_lengths.cpu()).squeeze(1)\n",
        "            \n",
        "            loss = criterion(predictions, batch.label)\n",
        "            \n",
        "            acc = binary_accuracy(predictions, batch.label)\n",
        "\n",
        "            epoch_loss += loss.item()\n",
        "            epoch_acc += acc.item()\n",
        "        \n",
        "    return epoch_loss / len(iterator), epoch_acc / len(iterator)"
      ],
      "execution_count": 105,
      "outputs": []
    },
    {
      "cell_type": "code",
      "metadata": {
        "id": "A0O4hJLavB1C"
      },
      "source": [
        "import time\n",
        "\n",
        "def epoch_time(start_time, end_time):\n",
        "    elapsed_time = end_time - start_time\n",
        "    elapsed_mins = int(elapsed_time / 60)\n",
        "    elapsed_secs = int(elapsed_time - (elapsed_mins * 60))\n",
        "    return elapsed_mins, elapsed_secs"
      ],
      "execution_count": 106,
      "outputs": []
    },
    {
      "cell_type": "code",
      "metadata": {
        "colab": {
          "base_uri": "https://localhost:8080/"
        },
        "id": "f5vQycG5vDx0",
        "outputId": "608d4a85-c24e-47be-89ae-8fd780e1c943"
      },
      "source": [
        "N_EPOCHS = 10\n",
        "\n",
        "best_valid_loss = float('inf')\n",
        "\n",
        "for epoch in range(N_EPOCHS):\n",
        "\n",
        "    start_time = time.time()\n",
        "    \n",
        "    train_loss, train_acc = train(model, train_iterator, optimizer, criterion)\n",
        "    valid_loss, valid_acc = evaluate(model, valid_iterator, criterion)\n",
        "    \n",
        "    end_time = time.time()\n",
        "\n",
        "    epoch_mins, epoch_secs = epoch_time(start_time, end_time)\n",
        "    \n",
        "    if valid_loss < best_valid_loss:\n",
        "        best_valid_loss = valid_loss\n",
        "        torch.save(model.state_dict(), 'tut2-model.pt')\n",
        "    \n",
        "    print(f'Epoch: {epoch+1:02} | Epoch Time: {epoch_mins}m {epoch_secs}s')\n",
        "    print(f'\\tTrain Loss: {train_loss:.3f} | Train Acc: {train_acc*100:.2f}%')\n",
        "    print(f'\\t Val. Loss: {valid_loss:.3f} |  Val. Acc: {valid_acc*100:.2f}%')"
      ],
      "execution_count": 107,
      "outputs": [
        {
          "output_type": "stream",
          "text": [
            "Epoch: 01 | Epoch Time: 0m 25s\n",
            "\tTrain Loss: 0.651 | Train Acc: 61.85%\n",
            "\t Val. Loss: 0.544 |  Val. Acc: 73.37%\n",
            "Epoch: 02 | Epoch Time: 0m 26s\n",
            "\tTrain Loss: 0.560 | Train Acc: 71.33%\n",
            "\t Val. Loss: 0.523 |  Val. Acc: 73.93%\n",
            "Epoch: 03 | Epoch Time: 0m 25s\n",
            "\tTrain Loss: 0.453 | Train Acc: 80.02%\n",
            "\t Val. Loss: 0.737 |  Val. Acc: 65.01%\n",
            "Epoch: 04 | Epoch Time: 0m 25s\n",
            "\tTrain Loss: 0.370 | Train Acc: 84.66%\n",
            "\t Val. Loss: 0.357 |  Val. Acc: 85.23%\n",
            "Epoch: 05 | Epoch Time: 0m 26s\n",
            "\tTrain Loss: 0.313 | Train Acc: 87.47%\n",
            "\t Val. Loss: 0.342 |  Val. Acc: 85.63%\n",
            "Epoch: 06 | Epoch Time: 0m 25s\n",
            "\tTrain Loss: 0.271 | Train Acc: 89.52%\n",
            "\t Val. Loss: 0.354 |  Val. Acc: 86.01%\n",
            "Epoch: 07 | Epoch Time: 0m 25s\n",
            "\tTrain Loss: 0.225 | Train Acc: 91.41%\n",
            "\t Val. Loss: 0.478 |  Val. Acc: 82.53%\n",
            "Epoch: 08 | Epoch Time: 0m 25s\n",
            "\tTrain Loss: 0.206 | Train Acc: 92.11%\n",
            "\t Val. Loss: 0.333 |  Val. Acc: 87.09%\n",
            "Epoch: 09 | Epoch Time: 0m 26s\n",
            "\tTrain Loss: 0.177 | Train Acc: 93.58%\n",
            "\t Val. Loss: 0.379 |  Val. Acc: 85.68%\n",
            "Epoch: 10 | Epoch Time: 0m 25s\n",
            "\tTrain Loss: 0.158 | Train Acc: 94.12%\n",
            "\t Val. Loss: 0.484 |  Val. Acc: 82.49%\n"
          ],
          "name": "stdout"
        }
      ]
    },
    {
      "cell_type": "code",
      "metadata": {
        "colab": {
          "base_uri": "https://localhost:8080/"
        },
        "id": "3KgFobi3vFqW",
        "outputId": "b1c7c729-72a0-497d-809a-cc47b13d5389"
      },
      "source": [
        "model.load_state_dict(torch.load('tut2-model.pt'))\n",
        "\n",
        "test_loss, test_acc = evaluate(model, test_iterator, criterion)\n",
        "\n",
        "print(f'Test Loss: {test_loss:.3f} | Test Acc: {test_acc*100:.2f}%')"
      ],
      "execution_count": 108,
      "outputs": [
        {
          "output_type": "stream",
          "text": [
            "Test Loss: 0.384 | Test Acc: 85.76%\n"
          ],
          "name": "stdout"
        }
      ]
    },
    {
      "cell_type": "code",
      "metadata": {
        "id": "A1kLx8wlx4I2"
      },
      "source": [
        ""
      ],
      "execution_count": null,
      "outputs": []
    }
  ]
}